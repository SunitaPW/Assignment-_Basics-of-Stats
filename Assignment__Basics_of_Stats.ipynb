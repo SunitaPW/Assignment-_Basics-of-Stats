{
  "nbformat": 4,
  "nbformat_minor": 0,
  "metadata": {
    "colab": {
      "provenance": []
    },
    "kernelspec": {
      "name": "python3",
      "display_name": "Python 3"
    },
    "language_info": {
      "name": "python"
    }
  },
  "cells": [
    {
      "cell_type": "markdown",
      "source": [
        "# Statistics Basics_Assignment Questions and Answers"
      ],
      "metadata": {
        "id": "VSRbsOcNK79I"
      }
    },
    {
      "cell_type": "markdown",
      "source": [
        "### Q 1 :-  Explain the different types of data (qualitative and quantitative) and provide examples of each. Discuss nominal, ordinal, interval, and ratio scales."
      ],
      "metadata": {
        "id": "7srffbeVKbLe"
      }
    },
    {
      "cell_type": "markdown",
      "source": [
        "## Answer :-\n",
        "\n",
        "### There are 2 types of Data :-\n",
        "\n",
        "#### **1) Quantitative Data :-**\n",
        "- **It is also known as 'Numerical Data' which can be counted or measured**\n",
        "- **It is used to answer questions like (How many, How much, or How often) Height, Weight, Size....etc**\n",
        "- **For Example ----> Arithmetic calculation (+, -, *, /, %)**\n",
        "\n",
        "\n",
        "\n",
        "#### **2) Qualitative Data :-**\n",
        "- **It is also known as 'Categorical Data' which cannot be calculated**\n",
        "- **Qualitative data can be represented by 'Name, Symbol, Number code...etc**\n",
        "- **For Example ----> Color, Emotions, Address, Gender, Nationality.....etc.**\n",
        "\n",
        "\n",
        "### The Nominal, Ordinal, Interval, and Ratio scales are :-\n",
        "\n",
        "- 1) Nominal :-\n",
        "- - It means \"No order in Categorical Data / Naturally there will be no order\".\n",
        "\n",
        "- - It comes under Qualitative Data.\n",
        "\n",
        "- - For Example ----> Blood group (A, B+, A+), Gender(Male, Female), Color(Blue, Red, Black....), Race/Ethnicity, Religion and......so on.\n",
        "\n",
        "- 2) Ordinal :-\n",
        "- - It means there is \"Order in Categorical Data / meaningful order / Naturally ordered\".\n",
        "\n",
        "- - It comes under Qualitative Data.\n",
        "\n",
        "- - For Example ----> Rank(best, better, good), Grades(A, B, C, D), Salary(high, medium, low), and......so on.\n",
        "\n",
        "\n",
        "- 3) Interval :-\n",
        "- - Numeric data where the intervals between values are meaningful, but there is no true zero.\n",
        "\n",
        "- - It comes under Quantivative Data.\n",
        "\n",
        "- - For Example ----> IQ scores (where the difference between scores is consistent but a score of 0 does not indicate a lack of intelligence), temperature (Celsius or Fahrenheit) and calendar years....so on\n",
        "\n",
        "- 4) Ratio :-\n",
        "\n",
        "- - Numeric data with meaningful intervals and a true zero point, allowing for a complete range of statistical operations.\n",
        "\n",
        "- - It comes under Quantivative Data.\n",
        "\n",
        "- - Examples include weight, height, and age ....so on."
      ],
      "metadata": {
        "id": "fvaDXphAKbpW"
      }
    },
    {
      "cell_type": "markdown",
      "source": [
        "## Q 2 :- What are the measures of central tendency, and when should you use each? Discuss the mean, median, and mode with examples and situations where each is appropriate."
      ],
      "metadata": {
        "id": "2aCLCnudO6kD"
      }
    },
    {
      "cell_type": "markdown",
      "source": [
        "## Answer :-\n",
        "\n",
        "### There are 3 measures of Central Tendency and when should it use :-\n",
        "\n",
        "- **1) Mean :-**\n",
        "- - The mean is appropriate to use for normally distributed data without outliers. It provides a good overall measure of central tendency when all values contribute equally to the average.\n",
        "\n",
        "- **2) Median :-**\n",
        "- - The median is particularly useful for ordinal data or when the data are skewed or contain outliers. For example, in income data where a few individuals earn significantly more than the rest, the median provides a better measure of the typical income.\n",
        "\n",
        "- **3) Mode :-**\n",
        "- - The mode is most useful for categorical data where we wish to know which is the most common category. For instance, in a survey of favorite colors, the mode can show the most popular color among respondents."
      ],
      "metadata": {
        "id": "q45RWd8hO6gi"
      }
    },
    {
      "cell_type": "markdown",
      "source": [
        "### Mean :-\n",
        "\n",
        "- It is summing up all the observations and dividing by number of observations.\n",
        "\n",
        "- Mean results are affected by Outlier.\n",
        "\n",
        "- The mean is use with continuous data without outliers for a measure of the average\n",
        "\n",
        "\n",
        "#### Example of Mean :-"
      ],
      "metadata": {
        "id": "wAxlYh2AO6es"
      }
    },
    {
      "cell_type": "code",
      "source": [
        "# Example of Mean with outlier value:-\n",
        "# Import Numpy from the library to calculte 'Mean'\n",
        "\n",
        "import numpy as np\n",
        "\n",
        "height = [127, 170, 100, 180, 157, 190]\n",
        "np.mean(height)"
      ],
      "metadata": {
        "id": "QkyePvRNQxaD",
        "colab": {
          "base_uri": "https://localhost:8080/"
        },
        "outputId": "91a98b86-3573-4ba6-efbd-88f82f75237a"
      },
      "execution_count": 1,
      "outputs": [
        {
          "output_type": "execute_result",
          "data": {
            "text/plain": [
              "154.0"
            ]
          },
          "metadata": {},
          "execution_count": 1
        }
      ]
    },
    {
      "cell_type": "code",
      "source": [
        "# Calculte Mean if there is an Outlier:-\n",
        "# Here 1000 is an Outlier :-\n",
        "\n",
        "height = [127, 170, 100, 180, 1000, 157, 190]\n",
        "np.mean(height)"
      ],
      "metadata": {
        "colab": {
          "base_uri": "https://localhost:8080/"
        },
        "id": "-zPjAXJQrPGc",
        "outputId": "291dcf5b-edfc-497b-c1fe-0d4ec99f8fe8"
      },
      "execution_count": 2,
      "outputs": [
        {
          "output_type": "execute_result",
          "data": {
            "text/plain": [
              "274.85714285714283"
            ]
          },
          "metadata": {},
          "execution_count": 2
        }
      ]
    },
    {
      "cell_type": "markdown",
      "source": [
        "### Median :-\n",
        "\n",
        "- It is a physical mid point of the data.\n",
        "\n",
        "- The median is the middle value when the data set is ordered from least to greatest.\n",
        "\n",
        "- Median result is not affected by Outlier.\n",
        "\n",
        "- Use with skewed data or when there are outliers; it represents the middle value.\n",
        "\n",
        "#### Example of Median :-"
      ],
      "metadata": {
        "id": "vnK88PSIO6ce"
      }
    },
    {
      "cell_type": "code",
      "source": [
        "# Example of Median without any outlier value:-\n",
        "\n",
        "height = [170, 180, 100, 157, 190]\n",
        "np.median(height)"
      ],
      "metadata": {
        "colab": {
          "base_uri": "https://localhost:8080/"
        },
        "id": "HligHJRwsG4x",
        "outputId": "1c95b961-87e0-42cd-bf83-24c777ab410e"
      },
      "execution_count": 3,
      "outputs": [
        {
          "output_type": "execute_result",
          "data": {
            "text/plain": [
              "170.0"
            ]
          },
          "metadata": {},
          "execution_count": 3
        }
      ]
    },
    {
      "cell_type": "code",
      "source": [
        "# Calculte Median if there is an Outlier:-\n",
        "# Here 1000 is an Outlier :-\n",
        "\n",
        "\n",
        "height = [170, 1800, 100, 157, 190]\n",
        "np.median(height)"
      ],
      "metadata": {
        "colab": {
          "base_uri": "https://localhost:8080/"
        },
        "id": "Hi6NDp3bsGXP",
        "outputId": "eeda46d3-30bd-4cac-8701-736164fc5c03"
      },
      "execution_count": 4,
      "outputs": [
        {
          "output_type": "execute_result",
          "data": {
            "text/plain": [
              "170.0"
            ]
          },
          "metadata": {},
          "execution_count": 4
        }
      ]
    },
    {
      "cell_type": "markdown",
      "source": [
        "### Mode :-\n",
        "\n",
        "- It is a maximum frequency / repeated highest number of times.\n",
        "\n",
        "- The mode is the value that appears most frequently in a data set.\n",
        "\n",
        "- Numpy doesn't have any library name mode, so it will through an error\n",
        "\n",
        "- **To calculate Mode you need to import another library \"from scipy import stats\"**\n",
        "\n",
        "- **You can also calculate Mode using \"import statistics\"**\n",
        "\n",
        "- Mode is use with categorical data to find the most common category."
      ],
      "metadata": {
        "id": "epf37NPqO6aI"
      }
    },
    {
      "cell_type": "code",
      "source": [
        "# To calculate Mode you need to import another library \"from scipy import stats\"\n",
        "\n",
        "from scipy import stats\n",
        "\n",
        "nos = [2, 4, 7, 2, 3, 2, 2, 3, 9, 2, 2, 6]\n",
        "stats.mode(nos)"
      ],
      "metadata": {
        "colab": {
          "base_uri": "https://localhost:8080/"
        },
        "id": "-yy3ZxrIt-vt",
        "outputId": "e857125c-0245-4cf1-a88a-c6dfa6b12eb0"
      },
      "execution_count": 5,
      "outputs": [
        {
          "output_type": "execute_result",
          "data": {
            "text/plain": [
              "ModeResult(mode=2, count=6)"
            ]
          },
          "metadata": {},
          "execution_count": 5
        }
      ]
    },
    {
      "cell_type": "code",
      "source": [
        "# Another way to calculate Mode using 'statistics' :-\n",
        "# Import the statistics library :-\n",
        "\n",
        "import statistics\n",
        "\n",
        "nos = [2, 4, 7, 2, 3, 2, 2, 3, 9, 2, 2, 6]\n",
        "statistics.mode(nos)"
      ],
      "metadata": {
        "colab": {
          "base_uri": "https://localhost:8080/"
        },
        "id": "KnBE-nW1t-sT",
        "outputId": "e5b44431-17a0-4215-e1bb-b6a15c64adca"
      },
      "execution_count": 6,
      "outputs": [
        {
          "output_type": "execute_result",
          "data": {
            "text/plain": [
              "2"
            ]
          },
          "metadata": {},
          "execution_count": 6
        }
      ]
    },
    {
      "cell_type": "markdown",
      "source": [
        "## Q 3 :- Explain the concept of dispersion. How do variance and standard deviation measure the spread of data?"
      ],
      "metadata": {
        "id": "L72SMUnFO6Xz"
      }
    },
    {
      "cell_type": "markdown",
      "source": [
        "## Answer :-\n",
        "\n",
        "\n",
        "### **Dispersion :-**\n",
        "- Dispersion refers to the extent to which data points in a dataset differ from each other and from the central tendency (mean, median, or mode).\n",
        "\n",
        " It provides insight into the variability and consistency of the data, indicating how spread out the values are.\n",
        "\n",
        " A dataset with low dispersion indicates that the values are close to each other and the central value, while a dataset with high dispersion shows that the values are more spread out.\n",
        "\n",
        "\n",
        "### Variance and Standard Deviation is the most important measure for the spread of data, Both quantify the spread of data, but they do so in slightly different ways :-\n",
        "\n",
        "- **Variance :-**\n",
        "- - Variance measures the average of the squared differences from the mean. It quantifies how far each data point is from the mean and thus from every other data point.\n",
        "\n",
        "- - Variance talks about spreads at an overall level.\n",
        "\n",
        "- - Variance gives a measure of how much the data points differ from the mean, but since it is expressed in squared units, it can be less intuitive.\n",
        "\n",
        "\n",
        "\n",
        "- **Standard Deviation :-**\n",
        "- - Standard Deviation is the square root of the variance. It provides a measure of dispersion in the same units as the original data, making it more interpretable than variance.\n",
        "\n",
        "- - Standard Deviation derived from Variance.\n",
        "\n",
        "- - Standard Deviation is measures of how spread out numbers are.\n",
        "\n",
        "- - Standard Deviation translates that measure back into the original units of the data, providing a clearer understanding of spread.\n",
        "\n",
        "\n"
      ],
      "metadata": {
        "id": "2xlv52mqO6Va"
      }
    },
    {
      "cell_type": "markdown",
      "source": [
        "## **\"Variance\"** Measures of Dispersion :-\n",
        "\n",
        "#### **To calculate the Variance we need to import Numpy library**\n",
        "\n",
        "- **Syntax** -----> **np.var(data variable name)**\n",
        "\n",
        "- **Example** -----> **np.var(data)**\n",
        "\n",
        "### Example :-"
      ],
      "metadata": {
        "id": "pKA01B53ujv6"
      }
    },
    {
      "cell_type": "code",
      "source": [
        "# Calculate Variance :-\n",
        "\n",
        "import numpy as np\n",
        "\n",
        "data = [2, 3, 4, 5, 8, 9, 12, 40, 41, 15]\n",
        "np.var(data)"
      ],
      "metadata": {
        "colab": {
          "base_uri": "https://localhost:8080/"
        },
        "id": "ExEhrwxNxw6e",
        "outputId": "39eff1fb-3ae2-46db-b67f-04c7697dfa04"
      },
      "execution_count": 7,
      "outputs": [
        {
          "output_type": "execute_result",
          "data": {
            "text/plain": [
              "191.69000000000003"
            ]
          },
          "metadata": {},
          "execution_count": 7
        }
      ]
    },
    {
      "cell_type": "markdown",
      "source": [
        "## **\"Standard Deviation\"** Measures of Dispersion :-\n",
        "\n",
        "- **Syntax** -----> **np.std(data variable name)**\n",
        "\n",
        "- **Example** -----> **np.std(data)**\n",
        "\n",
        "### Example :-\n"
      ],
      "metadata": {
        "id": "693LYCeGO6Sx"
      }
    },
    {
      "cell_type": "code",
      "source": [
        "# Calculate Standard Deviation :-\n",
        "\n",
        "np.std(data)"
      ],
      "metadata": {
        "colab": {
          "base_uri": "https://localhost:8080/"
        },
        "id": "7rqqynV7ySAy",
        "outputId": "5fbefd70-1169-4279-e5ff-7275095aa6db"
      },
      "execution_count": 8,
      "outputs": [
        {
          "output_type": "execute_result",
          "data": {
            "text/plain": [
              "13.8452157801892"
            ]
          },
          "metadata": {},
          "execution_count": 8
        }
      ]
    },
    {
      "cell_type": "markdown",
      "source": [
        "## Q 4 :- What is a box plot, and what can it tell you about the distribution of data?"
      ],
      "metadata": {
        "id": "ibkHmYNwO6P9"
      }
    },
    {
      "cell_type": "markdown",
      "source": [
        "## Answer :-\n",
        "\n",
        "\n",
        "### **Box Plot :-**\n",
        "\n",
        "- A Box plot can also known as Whisker plot.\n",
        "\n",
        "- It is a graphical representation of the distribution of a dataset that summarizes its central tendency, dispersion, and potential outliers.\n",
        "\n",
        "- It provides a visual overview of the data distribution and is particularly useful for comparing multiple datasets.\n",
        "\n",
        "- The main part of the Box plot, which represents the interquartile range (IQR). This is the range between the first quartile (Q1) and the third quartile (Q3).\n",
        "\n",
        "\n",
        "### The Box Plot tells below points about the distribution of data :-\n",
        "\n",
        "- **1) About Central Tendency :-** The position of the median line within the box provides insight into the central value of the data.\n",
        "\n",
        "- **2) About Spread of the Data :-** The length of the box (IQR) indicates how spread out the middle 50% of the data is.\n",
        "- - A longer box suggests greater variability, while a shorter box indicates less variability.\n",
        "\n",
        "- **3) About Skewness :-** The relative position of the median line within the box can indicate skewness.\n",
        "- - If the median is closer to Q1, the data may be positively skewed\n",
        "- - if it's closer to Q3, it may be negatively skewed.\n",
        "\n",
        "- **4) About Outliers :-** Points plotted beyond the whiskers represent outliers, which may indicate extreme values in the dataset as it helps to identifying outliers.\n",
        "\n",
        "- **5) About Comparison Between Datasets :-** When multiple box plots are presented side by side (for example :- different groups or categories), It allow for quick visual comparison of central tendencies, spreads, and potential outliers across datasets."
      ],
      "metadata": {
        "id": "SuFjkopZO6E8"
      }
    },
    {
      "cell_type": "markdown",
      "source": [
        "## Q 5 :- Discuss the role of random sampling in making inferences about populations ?"
      ],
      "metadata": {
        "id": "zqFGLUPi2DhR"
      }
    },
    {
      "cell_type": "markdown",
      "source": [
        "## Answer :-\n",
        "\n",
        "### Random Sampling is the process of selecting a subset of individuals from a larger population in such a way that each individual has an equal chance of being chosen. This method helps to ensure that the sample is representative of the population, reducing bias and allowing for more accurate conclusions.\n",
        "\n",
        "\n",
        "### The role of Random Sampling in making inferences about population are :-\n",
        "\n",
        "- 1) A well-executed random sample reflects the characteristics of the entire population. This representativeness allows researchers to generalize findings from the sample to the broader population, making it more likely that the conclusions drawn are valid.\n",
        "\n",
        "- 2) Random sampling minimizes / reduce selection bias, where certain individuals may be systematically excluded or included based on non-random criteria. By giving each member of the population an equal chance of selection, random sampling helps ensure that various segments of the population are appropriately represented.\n",
        "\n",
        "- 3) Random sampling facilitates the calculation of sampling error, which is the difference between the sample statistic and the actual population parameter. Understanding this error is essential for assessing the reliability of the sample results and for making informed decisions.\n",
        "\n",
        "- 4) Random samples allow statisticians to estimate population parameters (like means and proportions) with a known level of precision.\n",
        "\n",
        "- 5) Many statistical methods and tests rely on the assumption that the sample is randomly selected. This allows researchers to make predictions or draw conclusions about the population.\n",
        "\n",
        "\n"
      ],
      "metadata": {
        "id": "2eqzXeCe2Ddq"
      }
    },
    {
      "cell_type": "markdown",
      "source": [
        "## Q 6 :- Explain the concept of skewness and its types. How does skewness affect the interpretation of data?\n",
        "\n",
        "\n"
      ],
      "metadata": {
        "id": "Vdy5-PET2Dao"
      }
    },
    {
      "cell_type": "markdown",
      "source": [
        "## Answer :-\n",
        "\n",
        "### Skewness :-\n",
        "\n",
        "- Skewness is a statistical measure of symmetricity whether it is symmetry or not.\n",
        "\n",
        "- It measure that describes the asymmetry of the distribution of data points in a dataset.\n",
        "\n",
        "- It indicates whether the data are skewed to the left (negatively skewed), to the right (positively skewed), or are symmetrical.\n",
        "\n",
        "\n",
        "\n",
        "### There are 3 types of Skewness :-\n",
        "\n",
        "- 1) **Positive Skewness (Right Skewed) :-**\n",
        "\n",
        "- - In a positively skewed distribution, the tail on the right side (higher values) is longer or fatter than the left side.\n",
        "\n",
        "- - Most data points cluster on the left with a few higher values pulling the mean to the right of the median.\n",
        "\n",
        "\n",
        "- 2) **Negative Skewness (Left Skewed) :-**\n",
        "\n",
        "- - In a negatively skewed distribution, the tail on the left side (lower values) is longer or fatter than the right side.\n",
        "\n",
        "- - Most data points cluster on the right, and the mean is pulled to the left of the median.\n",
        "\n",
        "\n",
        "- 3) **Zero Skewness (Symmetrical) :-**\n",
        "\n",
        "- - In a perfectly symmetrical distribution, like a normal distribution, the tails on both sides are balanced, and the mean, median, and mode are all equal.\n",
        "\n",
        "\n",
        "\n",
        "### Below mentioned some points explain how Skewness affect the interpretation of data :-\n",
        "\n",
        "- 1) **Central Tendency Measures :-** In skewed distributions, the mean is influenced by extreme values and may not accurately reflect the typical value of the dataset.\n",
        "\n",
        "- 2) **Data Interpretation :-** Skewness affects the understanding of variability and outliers.\n",
        "\n",
        "- 3) **Visual Representation :-** Skewness can also be visually assessed using histograms or box plots. Recognizing skewness helps analysts identify patterns and potential issues/problems in data quality or distribution."
      ],
      "metadata": {
        "id": "o62w8Aqt4pYg"
      }
    },
    {
      "cell_type": "markdown",
      "source": [
        "## Q 7 :- What is the interquartile range (IQR), and how is it used to detect outliers?"
      ],
      "metadata": {
        "id": "I--Nvfxd8XY9"
      }
    },
    {
      "cell_type": "markdown",
      "source": [
        "## Answer :-\n",
        "\n",
        "### **Interquartile Range (IQR) :-**\n",
        "\n",
        "- It is a measure of statistical dispersion that represents the range within which the middle 50% of a dataset falls.\n",
        "\n",
        "- It is calculated as the difference between the first quartile (Q1) and the third quartile (Q3).\n",
        "\n",
        "- **Formula of IQR = Q3 - Q1**\n",
        "- - The Q1 and Q3 Quartiles are :-\n",
        "- - Q1 (First Quartile) :- The median of the lower half of the dataset (25th percentile).\n",
        "- - Q3 (Third Quartile) :- The median of the upper half of the dataset (75th percentile).\n",
        "\n",
        "\n",
        "### It is used to detect Outliers :-\n",
        "\n",
        "- Outliers are data points that significantly differ from the rest of the data.\n",
        "\n",
        "- It can be calculate the Lower and Upper Fence :-\n",
        "- - Upper Fence -----> Q3 + 1.5*IQR\n",
        "- - Lower Fence -----> Q1 - 1.5*IQR\n",
        "\n",
        "- Identify Outliers :- Any data point below the lower bound or above the upper bound is considered an outlier.\n",
        "\n",
        "- the IQR helps ensure more accurate statistical analysis and interpretation.\n",
        "\n"
      ],
      "metadata": {
        "id": "q6P_EJaR8aZX"
      }
    },
    {
      "cell_type": "markdown",
      "source": [
        "## Q 8 :- Discuss the conditions under which the binomial distribution is used ?"
      ],
      "metadata": {
        "id": "_RcMkKcoAneo"
      }
    },
    {
      "cell_type": "markdown",
      "source": [
        "## Answer :-\n",
        "\n",
        "### **Binomial Distribution :-**\n",
        "\n",
        "- The Binomial Distribution is a common probability distribution that models the probability of obtaining one of two outcomes under a given number of parameters.\n",
        "\n",
        "- It summarizes the number of trials when each trial has the same chance of attaining one specific outcome.\n",
        "\n",
        "- It is commonly used in various fields, including statistics, finance, and quality control.\n",
        "\n",
        "\n",
        "### There are some condition under which the Binomial Distribution is used :-\n",
        "\n",
        "- 1) **Fixed number of Trials :-** There is a fixed number of experiments or trials, represented by the symbol n.\n",
        "\n",
        "- 2) **Two possible Outcomes:-** Each trial has only two possible outcomes, usually called \"success\" or \"failure\".\n",
        "\n",
        "- 3) **Independent Trials :-** When all trials are independent of each other.\n",
        "\n",
        "- 4) **Constant probability of Success (p) :-** When the probability of success, represented by the symbol p, is the same for each trial.\n",
        "\n",
        "- 5) **Probability of Failure (q):-** When the probability of failure, denoted as q, is related to p and can be expressed as \"q = 1 - p\".\n"
      ],
      "metadata": {
        "id": "bBDKT6zfAwEM"
      }
    },
    {
      "cell_type": "markdown",
      "source": [
        "## Q 9 :- Explain the properties of the normal distribution and the empirical rule (68-95-99.7 rule) ?"
      ],
      "metadata": {
        "id": "OqumBKkMDE2x"
      }
    },
    {
      "cell_type": "markdown",
      "source": [
        "## Answer :-\n",
        "\n",
        "### **Normal Distributions:-**\n",
        "\n",
        "- Normal distribution data are symmetrically distributed with no skew.\n",
        "\n",
        "- It characterized by its bell-shaped curve.\n",
        "\n",
        "- It is widely used because many natural phenomena tend to approximate this distribution under certain conditions.\n",
        "\n",
        "\n",
        "## The properties of the Normal Distribution are :-\n",
        "\n",
        "- **1) Bell Curve Shape :-** The normal distribution is shaped like a bell curve, with two mirrored halves in both directions from the center. It has a single peak.\n",
        "\n",
        "- **2) Symmetry :-** The distribution is symmetrical about the mean, This means that the left half of the distribution is a mirror image of the right half.\n",
        "\n",
        "- **3) Mean, Median, and Mode :-** In a perfect normal distribution, the mean, median, and mode are all equal and located at the center peak.\n",
        "\n",
        "- **4) Unimodal :-** The distribution has only one peak or maximum.\n",
        "\n",
        "- **5) Asymptotic :-** The curve's lines get closer and closer to zero as they move away from the mean.\n",
        "\n",
        "- **6) Standard Deviation :-** The distribution is completely described by its mean and standard deviation.\n",
        "\n",
        "- **7) Area Under the Curve :-** The total area under the curve of a normal distribution equals 1. This property allows for the calculation of probabilities and the proportion of observations within certain ranges.\n",
        "\n",
        "\n",
        "\n",
        "### Explanation of the \"Empirical Rule (68-95-99.7 rule) are :-\n",
        "\n",
        "**The empirical rule provides a quick way to understand the distribution of data in a normal distribution, particularly regarding how data are spread around the mean.**\n",
        "\n",
        "**The empirical rule, also known as the 68-95-99.7 rule.**\n",
        "\n",
        "- **68 :-** Approximately 68% of the data will fall within one standard deviation.\n",
        "\n",
        "- **95 :-** About 95% of the data falls within two standard deviations.\n",
        "\n",
        "- **99.7 :-** Approximately 99.7% of the data falls within three standard deviations from the mean.\n"
      ],
      "metadata": {
        "id": "RdjVBaGWDrLT"
      }
    },
    {
      "cell_type": "markdown",
      "source": [
        "## Q 10 :- Provide a real-life example of a Poisson process and calculate the probability for a specific event ?\n"
      ],
      "metadata": {
        "id": "dNeNPQSVH_ow"
      }
    },
    {
      "cell_type": "markdown",
      "source": [
        "## Answer :-\n",
        "\n",
        "### **Poisson Process :-**\n",
        "\n",
        "- A Poisson process is a statistical model that describes a series of events occurring in a fixed interval of time or space, where these events happen independently of one another.\n",
        "\n",
        "\n",
        "### Let's take a real-life example of a grocery store receives an average of 20 customers per hour. The arrivals of customers can be modeled as a Poisson process.\n",
        "\n",
        "- **Parameters** :------ **Average rate : 20 customers per hour**\n",
        "\n",
        "- **Specific Event Question :------- What is the probability that exactly 9 customers arrive at the grocery store in one hour ?**\n",
        "\n",
        "- **Conclusion of the Result is :-** The probability that exactly 9 customers arrive at the grocery store in one hour is approximately 0.0029, or 0.29%. So, this shows how the Poisson process can be used to model customer arrivals in a grocery store setting."
      ],
      "metadata": {
        "id": "R4XihL6vIQSy"
      }
    },
    {
      "cell_type": "code",
      "source": [
        "# Import poisson from scipy.stats and Numpy library for the calculation :-\n",
        "import numpy as np\n",
        "from scipy.stats import poisson\n",
        "\n",
        "# Set parameters :-\n",
        "# 1st ----> Average customers per hour\n",
        "# 2nd ----> Number of customers we want to find the probability for :-\n",
        "\n",
        "Average_value = 20\n",
        "Customer = 9\n",
        "\n",
        "# Now, Calculate the probability of exactly customers arriving with  :-\n",
        "# Here, pmf stand for Probability Mass Function\n",
        "# Here \"poisson.pmf(Cus, lambda_value)\", it computes the probability that exactly (Cus) events occur, given the average rate of events.\n",
        "\n",
        "probability = poisson.pmf(Customer, Average_value)\n",
        "\n",
        "\n",
        "# Now, Print the result :-\n",
        "print(f\"The probability that exactly {Customer} customers arrive in one hour is approximately {probability:.4f}, or {probability * 100:.2f}%.\")\n"
      ],
      "metadata": {
        "colab": {
          "base_uri": "https://localhost:8080/"
        },
        "id": "9CRc8Hyp_Ngj",
        "outputId": "f77047c5-f866-4f14-de94-7a590b9608af"
      },
      "execution_count": 15,
      "outputs": [
        {
          "output_type": "stream",
          "name": "stdout",
          "text": [
            "The probability that exactly 9 customers arrive in one hour is approximately 0.0029, or 0.29%.\n"
          ]
        }
      ]
    },
    {
      "cell_type": "markdown",
      "source": [
        "## Q 11 :- Explain what a random variable is and differentiate between discrete and continuous random variables."
      ],
      "metadata": {
        "id": "k1Z0HCLsN8XD"
      }
    },
    {
      "cell_type": "markdown",
      "source": [
        "## Answer :-\n",
        "\n",
        "### **Random Variable :-**\n",
        "\n",
        "- A Random Variable is a mathematical representation of a quantity or object that depends on random events.\n",
        "\n",
        "- It is a variable whose value is unknown or a function that assigns values to each of an experiment's outcomes.\n",
        "\n",
        "- A Random Variable can be 2 types :-\n",
        "- - **1) \"Discrete (having specific values)\"** or,\n",
        "- - **2) \"Continuous (any value in a continuous range)\"**.\n",
        "\n",
        "\n",
        "### The Difference Between Discrete and Continuous Random Varible are :-\n",
        "\n",
        "### **Discrete Random Variables :-**\n",
        "\n",
        "- 1) **Value of :-** Discrete random variables have a countable number of values (Integers).\n",
        "\n",
        "- 2) **Probability of :-** Discrete random variable is defined by Probability Mass Functions (PMF).\n",
        "\n",
        "- 3) **Mathematical methods :-** Summation used to find probabilities.\n",
        "\n",
        "- 4) **For Example :-** Number of heads in flipping a coin, rolling a dice and.... so on.\n",
        "\n",
        "\n",
        "### **Continuous Random Variables :-**\n",
        "\n",
        "- 1) **Value of :-** Continuous random variables can have an infinite / uncountable number of values (Real Numbers).\n",
        "\n",
        "- 2) **Probability of :-** Continuous random variables is defined by Probability Density Functions (PDF).\n",
        "\n",
        "- 3) **Mathematical methods :-** Integration used to find probabilities.\n",
        "\n",
        "- 4) **For Example :-** Weight, Income, Average Rainfall, Temperature and so on."
      ],
      "metadata": {
        "id": "Ag1qmAf4QiJe"
      }
    },
    {
      "cell_type": "markdown",
      "source": [
        "## Q 12 :- Provide an example dataset, calculate both covariance and correlation, and interpret the results ?"
      ],
      "metadata": {
        "id": "heoG9lCZUrU2"
      }
    },
    {
      "cell_type": "markdown",
      "source": [
        "## Answer :-\n",
        "\n",
        "### **\"Covariance\" :-**\n",
        "- Covariance measures the directional relationship between two random variables (positive or negative), but not the strength or consistency.\n",
        "\n",
        "### **\"Correlation\" :-**\n",
        "- Correlation measures the strength and direction of the linear relationship between two variables, making it more informative when comparing variables.\n",
        "\n",
        "- Correlation value is never dependent on the slop.\n",
        "\n",
        "- Non-linear data will have Correlation 0.\n",
        "\n",
        "\n",
        "### Example of Covariance and Correlation with the help of a Dataset :-\n",
        "\n"
      ],
      "metadata": {
        "id": "FzzaTIAEU8Hx"
      }
    },
    {
      "cell_type": "code",
      "source": [
        "# Importing pandas library for creating dataset :-\n",
        "\n",
        "import pandas as pd\n",
        "\n",
        "#"
      ],
      "metadata": {
        "id": "0PpvsVJWKLZ0"
      },
      "execution_count": 16,
      "outputs": []
    },
    {
      "cell_type": "code",
      "source": [
        "# Creating a dataset :-\n",
        "data = {\n",
        "    \"Student\": ['Sangeeta', 'Asha', 'Sunita', 'Diksha', 'Anita'],\n",
        "    \"Hours_Studied\": [5, 3, 6, 4, 2],\n",
        "    \"Exam_Score\": [70, 75, 85, 80, 60]}\n",
        "\n",
        "data"
      ],
      "metadata": {
        "colab": {
          "base_uri": "https://localhost:8080/"
        },
        "id": "prwi8OJ9WcTs",
        "outputId": "6d77cd82-db1a-460c-96ff-392e488b9314"
      },
      "execution_count": 29,
      "outputs": [
        {
          "output_type": "execute_result",
          "data": {
            "text/plain": [
              "{'Student': ['Sangeeta', 'Asha', 'Sunita', 'Diksha', 'Anita'],\n",
              " 'Hours_Studied': [5, 3, 6, 4, 2],\n",
              " 'Exam_Score': [70, 75, 85, 80, 60]}"
            ]
          },
          "metadata": {},
          "execution_count": 29
        }
      ]
    },
    {
      "cell_type": "code",
      "source": [
        "# Convert data into DataFrame :-\n",
        "\n",
        "df = pd.DataFrame(data)\n",
        "df"
      ],
      "metadata": {
        "colab": {
          "base_uri": "https://localhost:8080/",
          "height": 206
        },
        "id": "r6I86V4dWqLD",
        "outputId": "d5d7b6d9-1d92-440b-d80d-09effa7c5269"
      },
      "execution_count": 30,
      "outputs": [
        {
          "output_type": "execute_result",
          "data": {
            "text/plain": [
              "    Student  Hours_Studied  Exam_Score\n",
              "0  Sangeeta              5          70\n",
              "1      Asha              3          75\n",
              "2    Sunita              6          85\n",
              "3    Diksha              4          80\n",
              "4     Anita              2          60"
            ],
            "text/html": [
              "\n",
              "  <div id=\"df-624e3951-bf90-4db4-bd71-307cdcde8427\" class=\"colab-df-container\">\n",
              "    <div>\n",
              "<style scoped>\n",
              "    .dataframe tbody tr th:only-of-type {\n",
              "        vertical-align: middle;\n",
              "    }\n",
              "\n",
              "    .dataframe tbody tr th {\n",
              "        vertical-align: top;\n",
              "    }\n",
              "\n",
              "    .dataframe thead th {\n",
              "        text-align: right;\n",
              "    }\n",
              "</style>\n",
              "<table border=\"1\" class=\"dataframe\">\n",
              "  <thead>\n",
              "    <tr style=\"text-align: right;\">\n",
              "      <th></th>\n",
              "      <th>Student</th>\n",
              "      <th>Hours_Studied</th>\n",
              "      <th>Exam_Score</th>\n",
              "    </tr>\n",
              "  </thead>\n",
              "  <tbody>\n",
              "    <tr>\n",
              "      <th>0</th>\n",
              "      <td>Sangeeta</td>\n",
              "      <td>5</td>\n",
              "      <td>70</td>\n",
              "    </tr>\n",
              "    <tr>\n",
              "      <th>1</th>\n",
              "      <td>Asha</td>\n",
              "      <td>3</td>\n",
              "      <td>75</td>\n",
              "    </tr>\n",
              "    <tr>\n",
              "      <th>2</th>\n",
              "      <td>Sunita</td>\n",
              "      <td>6</td>\n",
              "      <td>85</td>\n",
              "    </tr>\n",
              "    <tr>\n",
              "      <th>3</th>\n",
              "      <td>Diksha</td>\n",
              "      <td>4</td>\n",
              "      <td>80</td>\n",
              "    </tr>\n",
              "    <tr>\n",
              "      <th>4</th>\n",
              "      <td>Anita</td>\n",
              "      <td>2</td>\n",
              "      <td>60</td>\n",
              "    </tr>\n",
              "  </tbody>\n",
              "</table>\n",
              "</div>\n",
              "    <div class=\"colab-df-buttons\">\n",
              "\n",
              "  <div class=\"colab-df-container\">\n",
              "    <button class=\"colab-df-convert\" onclick=\"convertToInteractive('df-624e3951-bf90-4db4-bd71-307cdcde8427')\"\n",
              "            title=\"Convert this dataframe to an interactive table.\"\n",
              "            style=\"display:none;\">\n",
              "\n",
              "  <svg xmlns=\"http://www.w3.org/2000/svg\" height=\"24px\" viewBox=\"0 -960 960 960\">\n",
              "    <path d=\"M120-120v-720h720v720H120Zm60-500h600v-160H180v160Zm220 220h160v-160H400v160Zm0 220h160v-160H400v160ZM180-400h160v-160H180v160Zm440 0h160v-160H620v160ZM180-180h160v-160H180v160Zm440 0h160v-160H620v160Z\"/>\n",
              "  </svg>\n",
              "    </button>\n",
              "\n",
              "  <style>\n",
              "    .colab-df-container {\n",
              "      display:flex;\n",
              "      gap: 12px;\n",
              "    }\n",
              "\n",
              "    .colab-df-convert {\n",
              "      background-color: #E8F0FE;\n",
              "      border: none;\n",
              "      border-radius: 50%;\n",
              "      cursor: pointer;\n",
              "      display: none;\n",
              "      fill: #1967D2;\n",
              "      height: 32px;\n",
              "      padding: 0 0 0 0;\n",
              "      width: 32px;\n",
              "    }\n",
              "\n",
              "    .colab-df-convert:hover {\n",
              "      background-color: #E2EBFA;\n",
              "      box-shadow: 0px 1px 2px rgba(60, 64, 67, 0.3), 0px 1px 3px 1px rgba(60, 64, 67, 0.15);\n",
              "      fill: #174EA6;\n",
              "    }\n",
              "\n",
              "    .colab-df-buttons div {\n",
              "      margin-bottom: 4px;\n",
              "    }\n",
              "\n",
              "    [theme=dark] .colab-df-convert {\n",
              "      background-color: #3B4455;\n",
              "      fill: #D2E3FC;\n",
              "    }\n",
              "\n",
              "    [theme=dark] .colab-df-convert:hover {\n",
              "      background-color: #434B5C;\n",
              "      box-shadow: 0px 1px 3px 1px rgba(0, 0, 0, 0.15);\n",
              "      filter: drop-shadow(0px 1px 2px rgba(0, 0, 0, 0.3));\n",
              "      fill: #FFFFFF;\n",
              "    }\n",
              "  </style>\n",
              "\n",
              "    <script>\n",
              "      const buttonEl =\n",
              "        document.querySelector('#df-624e3951-bf90-4db4-bd71-307cdcde8427 button.colab-df-convert');\n",
              "      buttonEl.style.display =\n",
              "        google.colab.kernel.accessAllowed ? 'block' : 'none';\n",
              "\n",
              "      async function convertToInteractive(key) {\n",
              "        const element = document.querySelector('#df-624e3951-bf90-4db4-bd71-307cdcde8427');\n",
              "        const dataTable =\n",
              "          await google.colab.kernel.invokeFunction('convertToInteractive',\n",
              "                                                    [key], {});\n",
              "        if (!dataTable) return;\n",
              "\n",
              "        const docLinkHtml = 'Like what you see? Visit the ' +\n",
              "          '<a target=\"_blank\" href=https://colab.research.google.com/notebooks/data_table.ipynb>data table notebook</a>'\n",
              "          + ' to learn more about interactive tables.';\n",
              "        element.innerHTML = '';\n",
              "        dataTable['output_type'] = 'display_data';\n",
              "        await google.colab.output.renderOutput(dataTable, element);\n",
              "        const docLink = document.createElement('div');\n",
              "        docLink.innerHTML = docLinkHtml;\n",
              "        element.appendChild(docLink);\n",
              "      }\n",
              "    </script>\n",
              "  </div>\n",
              "\n",
              "\n",
              "<div id=\"df-45259aff-1e09-453c-b820-2546712da677\">\n",
              "  <button class=\"colab-df-quickchart\" onclick=\"quickchart('df-45259aff-1e09-453c-b820-2546712da677')\"\n",
              "            title=\"Suggest charts\"\n",
              "            style=\"display:none;\">\n",
              "\n",
              "<svg xmlns=\"http://www.w3.org/2000/svg\" height=\"24px\"viewBox=\"0 0 24 24\"\n",
              "     width=\"24px\">\n",
              "    <g>\n",
              "        <path d=\"M19 3H5c-1.1 0-2 .9-2 2v14c0 1.1.9 2 2 2h14c1.1 0 2-.9 2-2V5c0-1.1-.9-2-2-2zM9 17H7v-7h2v7zm4 0h-2V7h2v10zm4 0h-2v-4h2v4z\"/>\n",
              "    </g>\n",
              "</svg>\n",
              "  </button>\n",
              "\n",
              "<style>\n",
              "  .colab-df-quickchart {\n",
              "      --bg-color: #E8F0FE;\n",
              "      --fill-color: #1967D2;\n",
              "      --hover-bg-color: #E2EBFA;\n",
              "      --hover-fill-color: #174EA6;\n",
              "      --disabled-fill-color: #AAA;\n",
              "      --disabled-bg-color: #DDD;\n",
              "  }\n",
              "\n",
              "  [theme=dark] .colab-df-quickchart {\n",
              "      --bg-color: #3B4455;\n",
              "      --fill-color: #D2E3FC;\n",
              "      --hover-bg-color: #434B5C;\n",
              "      --hover-fill-color: #FFFFFF;\n",
              "      --disabled-bg-color: #3B4455;\n",
              "      --disabled-fill-color: #666;\n",
              "  }\n",
              "\n",
              "  .colab-df-quickchart {\n",
              "    background-color: var(--bg-color);\n",
              "    border: none;\n",
              "    border-radius: 50%;\n",
              "    cursor: pointer;\n",
              "    display: none;\n",
              "    fill: var(--fill-color);\n",
              "    height: 32px;\n",
              "    padding: 0;\n",
              "    width: 32px;\n",
              "  }\n",
              "\n",
              "  .colab-df-quickchart:hover {\n",
              "    background-color: var(--hover-bg-color);\n",
              "    box-shadow: 0 1px 2px rgba(60, 64, 67, 0.3), 0 1px 3px 1px rgba(60, 64, 67, 0.15);\n",
              "    fill: var(--button-hover-fill-color);\n",
              "  }\n",
              "\n",
              "  .colab-df-quickchart-complete:disabled,\n",
              "  .colab-df-quickchart-complete:disabled:hover {\n",
              "    background-color: var(--disabled-bg-color);\n",
              "    fill: var(--disabled-fill-color);\n",
              "    box-shadow: none;\n",
              "  }\n",
              "\n",
              "  .colab-df-spinner {\n",
              "    border: 2px solid var(--fill-color);\n",
              "    border-color: transparent;\n",
              "    border-bottom-color: var(--fill-color);\n",
              "    animation:\n",
              "      spin 1s steps(1) infinite;\n",
              "  }\n",
              "\n",
              "  @keyframes spin {\n",
              "    0% {\n",
              "      border-color: transparent;\n",
              "      border-bottom-color: var(--fill-color);\n",
              "      border-left-color: var(--fill-color);\n",
              "    }\n",
              "    20% {\n",
              "      border-color: transparent;\n",
              "      border-left-color: var(--fill-color);\n",
              "      border-top-color: var(--fill-color);\n",
              "    }\n",
              "    30% {\n",
              "      border-color: transparent;\n",
              "      border-left-color: var(--fill-color);\n",
              "      border-top-color: var(--fill-color);\n",
              "      border-right-color: var(--fill-color);\n",
              "    }\n",
              "    40% {\n",
              "      border-color: transparent;\n",
              "      border-right-color: var(--fill-color);\n",
              "      border-top-color: var(--fill-color);\n",
              "    }\n",
              "    60% {\n",
              "      border-color: transparent;\n",
              "      border-right-color: var(--fill-color);\n",
              "    }\n",
              "    80% {\n",
              "      border-color: transparent;\n",
              "      border-right-color: var(--fill-color);\n",
              "      border-bottom-color: var(--fill-color);\n",
              "    }\n",
              "    90% {\n",
              "      border-color: transparent;\n",
              "      border-bottom-color: var(--fill-color);\n",
              "    }\n",
              "  }\n",
              "</style>\n",
              "\n",
              "  <script>\n",
              "    async function quickchart(key) {\n",
              "      const quickchartButtonEl =\n",
              "        document.querySelector('#' + key + ' button');\n",
              "      quickchartButtonEl.disabled = true;  // To prevent multiple clicks.\n",
              "      quickchartButtonEl.classList.add('colab-df-spinner');\n",
              "      try {\n",
              "        const charts = await google.colab.kernel.invokeFunction(\n",
              "            'suggestCharts', [key], {});\n",
              "      } catch (error) {\n",
              "        console.error('Error during call to suggestCharts:', error);\n",
              "      }\n",
              "      quickchartButtonEl.classList.remove('colab-df-spinner');\n",
              "      quickchartButtonEl.classList.add('colab-df-quickchart-complete');\n",
              "    }\n",
              "    (() => {\n",
              "      let quickchartButtonEl =\n",
              "        document.querySelector('#df-45259aff-1e09-453c-b820-2546712da677 button');\n",
              "      quickchartButtonEl.style.display =\n",
              "        google.colab.kernel.accessAllowed ? 'block' : 'none';\n",
              "    })();\n",
              "  </script>\n",
              "</div>\n",
              "\n",
              "  <div id=\"id_18b6cd42-28e1-41b8-86c0-775b02f0c509\">\n",
              "    <style>\n",
              "      .colab-df-generate {\n",
              "        background-color: #E8F0FE;\n",
              "        border: none;\n",
              "        border-radius: 50%;\n",
              "        cursor: pointer;\n",
              "        display: none;\n",
              "        fill: #1967D2;\n",
              "        height: 32px;\n",
              "        padding: 0 0 0 0;\n",
              "        width: 32px;\n",
              "      }\n",
              "\n",
              "      .colab-df-generate:hover {\n",
              "        background-color: #E2EBFA;\n",
              "        box-shadow: 0px 1px 2px rgba(60, 64, 67, 0.3), 0px 1px 3px 1px rgba(60, 64, 67, 0.15);\n",
              "        fill: #174EA6;\n",
              "      }\n",
              "\n",
              "      [theme=dark] .colab-df-generate {\n",
              "        background-color: #3B4455;\n",
              "        fill: #D2E3FC;\n",
              "      }\n",
              "\n",
              "      [theme=dark] .colab-df-generate:hover {\n",
              "        background-color: #434B5C;\n",
              "        box-shadow: 0px 1px 3px 1px rgba(0, 0, 0, 0.15);\n",
              "        filter: drop-shadow(0px 1px 2px rgba(0, 0, 0, 0.3));\n",
              "        fill: #FFFFFF;\n",
              "      }\n",
              "    </style>\n",
              "    <button class=\"colab-df-generate\" onclick=\"generateWithVariable('df')\"\n",
              "            title=\"Generate code using this dataframe.\"\n",
              "            style=\"display:none;\">\n",
              "\n",
              "  <svg xmlns=\"http://www.w3.org/2000/svg\" height=\"24px\"viewBox=\"0 0 24 24\"\n",
              "       width=\"24px\">\n",
              "    <path d=\"M7,19H8.4L18.45,9,17,7.55,7,17.6ZM5,21V16.75L18.45,3.32a2,2,0,0,1,2.83,0l1.4,1.43a1.91,1.91,0,0,1,.58,1.4,1.91,1.91,0,0,1-.58,1.4L9.25,21ZM18.45,9,17,7.55Zm-12,3A5.31,5.31,0,0,0,4.9,8.1,5.31,5.31,0,0,0,1,6.5,5.31,5.31,0,0,0,4.9,4.9,5.31,5.31,0,0,0,6.5,1,5.31,5.31,0,0,0,8.1,4.9,5.31,5.31,0,0,0,12,6.5,5.46,5.46,0,0,0,6.5,12Z\"/>\n",
              "  </svg>\n",
              "    </button>\n",
              "    <script>\n",
              "      (() => {\n",
              "      const buttonEl =\n",
              "        document.querySelector('#id_18b6cd42-28e1-41b8-86c0-775b02f0c509 button.colab-df-generate');\n",
              "      buttonEl.style.display =\n",
              "        google.colab.kernel.accessAllowed ? 'block' : 'none';\n",
              "\n",
              "      buttonEl.onclick = () => {\n",
              "        google.colab.notebook.generateWithVariable('df');\n",
              "      }\n",
              "      })();\n",
              "    </script>\n",
              "  </div>\n",
              "\n",
              "    </div>\n",
              "  </div>\n"
            ],
            "application/vnd.google.colaboratory.intrinsic+json": {
              "type": "dataframe",
              "variable_name": "df",
              "summary": "{\n  \"name\": \"df\",\n  \"rows\": 5,\n  \"fields\": [\n    {\n      \"column\": \"Student\",\n      \"properties\": {\n        \"dtype\": \"string\",\n        \"num_unique_values\": 5,\n        \"samples\": [\n          \"Asha\",\n          \"Anita\",\n          \"Sunita\"\n        ],\n        \"semantic_type\": \"\",\n        \"description\": \"\"\n      }\n    },\n    {\n      \"column\": \"Hours_Studied\",\n      \"properties\": {\n        \"dtype\": \"number\",\n        \"std\": 1,\n        \"min\": 2,\n        \"max\": 6,\n        \"num_unique_values\": 5,\n        \"samples\": [\n          3,\n          2,\n          6\n        ],\n        \"semantic_type\": \"\",\n        \"description\": \"\"\n      }\n    },\n    {\n      \"column\": \"Exam_Score\",\n      \"properties\": {\n        \"dtype\": \"number\",\n        \"std\": 9,\n        \"min\": 60,\n        \"max\": 85,\n        \"num_unique_values\": 5,\n        \"samples\": [\n          75,\n          60,\n          85\n        ],\n        \"semantic_type\": \"\",\n        \"description\": \"\"\n      }\n    }\n  ]\n}"
            }
          },
          "metadata": {},
          "execution_count": 30
        }
      ]
    },
    {
      "cell_type": "code",
      "source": [
        "# Calculate Covariance and Correlation\n",
        "\n",
        "covariance = df['Hours_Studied'].cov(df['Exam_Score'])\n",
        "correlation = df['Hours_Studied'].corr(df['Exam_Score'])\n",
        "\n",
        "\n",
        "print(f\"Result of Covariance: {covariance:.2f}\")\n",
        "print(f\"Result of Correlation: {correlation:.2f}\")"
      ],
      "metadata": {
        "colab": {
          "base_uri": "https://localhost:8080/"
        },
        "id": "YZPnSxwYXsti",
        "outputId": "19df2d5b-1cb2-4d96-d8b3-a41371cdb7c1"
      },
      "execution_count": 26,
      "outputs": [
        {
          "output_type": "stream",
          "name": "stdout",
          "text": [
            "Result of Covariance: 11.25\n",
            "Result of Correlation: 0.74\n"
          ]
        }
      ]
    },
    {
      "cell_type": "markdown",
      "source": [
        "### Interpretation of Results of the Covariance and Correlation :-\n",
        "\n",
        "- Covariance: The value of approximately 11.25 and it indicates a positive relationship between hours studied and exam scores. As students study more hours, their scores tend to increase.\n",
        "\n",
        "- Correlation: The value of approximately 0.74 and it shows a strong positive linear relationship, meaning that there is a very strong association between hours studied and exam scores."
      ],
      "metadata": {
        "id": "hINHN-ZyYjzJ"
      }
    }
  ]
}